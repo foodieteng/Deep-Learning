{
 "cells": [
  {
   "cell_type": "code",
   "execution_count": null,
   "metadata": {},
   "outputs": [],
   "source": [
    "# 讀取 CSV File\n",
    "import pandas as pd # 引用套件並縮寫為 pd  \n",
    "df = pd.read_csv('data2/train.csv', delimiter=\"\\t\")  \n",
    "\n",
    "print(len(df)) \n"
   ]
  },
  {
   "cell_type": "code",
   "execution_count": null,
   "metadata": {},
   "outputs": [],
   "source": [
    "import math\n",
    "b = math.nan\n",
    "\n",
    "def isNaN(num):\n",
    "    return num != num\n",
    "\n",
    "print(isNaN(b))"
   ]
  },
  {
   "cell_type": "code",
   "execution_count": null,
   "metadata": {},
   "outputs": [],
   "source": [
    "total = len(df)"
   ]
  },
  {
   "cell_type": "code",
   "execution_count": null,
   "metadata": {},
   "outputs": [],
   "source": [
    "print(df.keys())"
   ]
  },
  {
   "cell_type": "code",
   "execution_count": null,
   "metadata": {},
   "outputs": [],
   "source": [
    "print(df)"
   ]
  },
  {
   "cell_type": "code",
   "execution_count": null,
   "metadata": {},
   "outputs": [],
   "source": [
    "column_B = df.iloc[:, 1]"
   ]
  },
  {
   "cell_type": "code",
   "execution_count": null,
   "metadata": {},
   "outputs": [],
   "source": [
    "print(df['Station'])"
   ]
  },
  {
   "cell_type": "code",
   "execution_count": null,
   "metadata": {},
   "outputs": [],
   "source": [
    "for i in range(total):\n",
    "    tmp = 0\n",
    "    if isNaN(df['1暴露岩岸'][i]):\n",
    "        tmp = df['1暴露岩岸'][i-1] + df['1暴露岩岸'][i-2] + df['1暴露岩岸'][i-3]\n",
    "        if tmp >= 2:\n",
    "            df['1暴露岩岸'][i] = 1\n",
    "        else:\n",
    "            df['1暴露岩岸'][i] = 0 \n",
    "        "
   ]
  },
  {
   "cell_type": "code",
   "execution_count": null,
   "metadata": {},
   "outputs": [],
   "source": [
    "for i in range(total):\n",
    "    tmp = 0\n",
    "    if isNaN(df['2暴露人造結構物'][i]):\n",
    "        tmp = df['2暴露人造結構物'][i-1] + df['2暴露人造結構物'][i-2] + df['2暴露人造結構物'][i-3]\n",
    "        if tmp >= 2:\n",
    "            df['2暴露人造結構物'][i] = 1\n",
    "        else:\n",
    "            df['2暴露人造結構物'][i] = 0 "
   ]
  },
  {
   "cell_type": "code",
   "execution_count": null,
   "metadata": {},
   "outputs": [],
   "source": [
    "for i in range(total):\n",
    "    tmp = 0\n",
    "    if isNaN(df['3暴露岩盤'][i]):\n",
    "        tmp = df['3暴露岩盤'][i-1] + df['3暴露岩盤'][i-2] + df['3暴露岩盤'][i-3]\n",
    "        if tmp >= 2:\n",
    "            df['3暴露岩盤'][i] = 1\n",
    "        else:\n",
    "            df['3暴露岩盤'][i] = 0 "
   ]
  },
  {
   "cell_type": "code",
   "execution_count": null,
   "metadata": {},
   "outputs": [],
   "source": [
    "for i in range(total):\n",
    "    tmp = 0\n",
    "    if isNaN(df['4沙灘'][i]):\n",
    "        tmp = df['4沙灘'][i-1] + df['4沙灘'][i-2] + df['4沙灘'][i-3]\n",
    "        if tmp >= 2:\n",
    "            df['4沙灘'][i] = 1\n",
    "        else:\n",
    "            df['4沙灘'][i] = 0 "
   ]
  },
  {
   "cell_type": "code",
   "execution_count": null,
   "metadata": {},
   "outputs": [],
   "source": [
    "for i in range(total):\n",
    "    tmp = 0\n",
    "    if isNaN(df['5砂礫混合灘'][i]):\n",
    "        tmp = df['5砂礫混合灘'][i-1] + df['5砂礫混合灘'][i-2] + df['5砂礫混合灘'][i-3]\n",
    "        if tmp >= 2:\n",
    "            df['5砂礫混合灘'][i] = 1\n",
    "        else:\n",
    "            df['5砂礫混合灘'][i] = 0 "
   ]
  },
  {
   "cell_type": "code",
   "execution_count": null,
   "metadata": {},
   "outputs": [],
   "source": [
    "for i in range(total):\n",
    "    tmp = 0\n",
    "    if isNaN(df['6礫石灘'][i]):\n",
    "        tmp = df['6礫石灘'][i-1] + df['6礫石灘'][i-2] + df['6礫石灘'][i-3]\n",
    "        if tmp >= 2:\n",
    "            df['6礫石灘'][i] = 1\n",
    "        else:\n",
    "            df['6礫石灘'][i] = 0 "
   ]
  },
  {
   "cell_type": "code",
   "execution_count": null,
   "metadata": {},
   "outputs": [],
   "source": [
    "for i in range(total):\n",
    "    tmp = 0\n",
    "    if isNaN(df['7開闊潮間帶'][i]):\n",
    "        tmp = df['7開闊潮間帶'][i-1] + df['7開闊潮間帶'][i-2] + df['7開闊潮間帶'][i-3]\n",
    "        if tmp >= 2:\n",
    "            df['7開闊潮間帶'][i] = 1\n",
    "        else:\n",
    "            df['7開闊潮間帶'][i] = 0 "
   ]
  },
  {
   "cell_type": "code",
   "execution_count": null,
   "metadata": {},
   "outputs": [],
   "source": [
    "for i in range(total):\n",
    "    tmp = 0\n",
    "    if isNaN(df['8遮蔽岩岸'][i]):\n",
    "        tmp = df['8遮蔽岩岸'][i-1] + df['8遮蔽岩岸'][i-2] + df['8遮蔽岩岸'][i-3]\n",
    "        if tmp >= 2:\n",
    "            df['8遮蔽岩岸'][i] = 1\n",
    "        else:\n",
    "            df['8遮蔽岩岸'][i] = 0 "
   ]
  },
  {
   "cell_type": "code",
   "execution_count": null,
   "metadata": {},
   "outputs": [],
   "source": [
    "for i in range(total):\n",
    "    tmp = 0\n",
    "    if isNaN(df['9遮蔽潮間帶'][i]):\n",
    "        tmp = df['9遮蔽潮間帶'][i-1] + df['9遮蔽潮間帶'][i-2] + df['9遮蔽潮間帶'][i-3]\n",
    "        if tmp >= 2:\n",
    "            df['9遮蔽潮間帶'][i] = 1\n",
    "        else:\n",
    "            df['9遮蔽潮間帶'][i] = 0 "
   ]
  },
  {
   "cell_type": "code",
   "execution_count": null,
   "metadata": {},
   "outputs": [],
   "source": [
    "for i in range(total):\n",
    "    tmp = 0\n",
    "    if isNaN(df['10遮蔽濕地'][i]):\n",
    "        tmp = df['10遮蔽濕地'][i-1] + df['10遮蔽濕地'][i-2] + df['10遮蔽濕地'][i-3]\n",
    "        if tmp >= 2:\n",
    "            df['10遮蔽濕地'][i] = 1\n",
    "        else:\n",
    "            df['10遮蔽濕地'][i] = 0 "
   ]
  },
  {
   "cell_type": "code",
   "execution_count": null,
   "metadata": {},
   "outputs": [],
   "source": [
    "df.to_csv(\"preprocess_train.csv\", encoding = 'utf_8_sig', index=False)"
   ]
  }
 ],
 "metadata": {
  "interpreter": {
   "hash": "aee8b7b246df8f9039afb4144a1f6fd8d2ca17a180786b69acc140d282b71a49"
  },
  "kernelspec": {
   "display_name": "Python 3.9.7 64-bit",
   "language": "python",
   "name": "python3"
  },
  "language_info": {
   "codemirror_mode": {
    "name": "ipython",
    "version": 3
   },
   "file_extension": ".py",
   "mimetype": "text/x-python",
   "name": "python",
   "nbconvert_exporter": "python",
   "pygments_lexer": "ipython3",
   "version": "3.9.7"
  },
  "orig_nbformat": 4
 },
 "nbformat": 4,
 "nbformat_minor": 2
}
